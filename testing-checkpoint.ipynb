{
 "cells": [
  {
   "cell_type": "code",
   "execution_count": null,
   "id": "99d6e335-fd2c-4962-b851-10beeda8e5e4",
   "metadata": {},
   "outputs": [],
   "source": []
  }
 ],
 "metadata": {
  "kernelspec": {
   "display_name": "",
   "name": ""
  },
  "language_info": {
   "name": ""
  }
 },
 "nbformat": 4,
 "nbformat_minor": 5
}
